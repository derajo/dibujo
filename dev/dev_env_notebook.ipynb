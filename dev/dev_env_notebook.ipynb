{
 "cells": [
  {
   "cell_type": "code",
   "execution_count": 58,
   "metadata": {},
   "outputs": [],
   "source": [
    "import json\n",
    "from collections import defaultdict\n",
    "from utils import load_keys\n",
    "import time \n",
    "import datetime \n",
    "\n",
    "\n",
    "\n",
    "class Get:\n",
    "    \"\"\"\n",
    "    Returns the notebook with any user designated filters\n",
    "    \"\"\"\n",
    "    notebook =[]\n",
    "    def load_notebook(self,file = '../Data/notebook.json'):\n",
    "            return [json.loads(i) for i in open(file,'r').readlines()]\n",
    "    \n",
    "    \n",
    "    def group_by(self,key):\n",
    "        \n",
    "        grouped_notebook = defaultdict(list)\n",
    "        for note in sorted(self.load_notebook(), key= lambda x:x['ID']): #self.notebook:\n",
    "            grouped_notebook[note[key]] += [note]\n",
    "        return dict(grouped_notebook)\n",
    "    \n",
    "    def display(self):\n",
    "        print_notebook = \"\"\"\"\"\"\n",
    "        def format_note(note):\n",
    "            return  f\"{note['entry_type']}  {note['entry']}\\n\"\n",
    "\n",
    "        for date,note in self.group_by('date').items():\n",
    "\n",
    "            print_notebook+=f\"{date}\\n\"\n",
    "            for i in note:\n",
    "                print_notebook+=format_note(i)\n",
    "            print_notebook+='\\n'\n",
    "        return print_notebook\n",
    "    # filter functions here\n",
    "    \n",
    "    # Date Filter\n",
    "    def date_range_filter(self,begin_date='',end_date=''):\n",
    "        \"\"\"\n",
    "        Filters the notebook based on a date range\n",
    "        \"\"\"\n",
    "        if begin_date == '' and end_date == '':\n",
    "            return self.notebook\n",
    "        else:\n",
    "\n",
    "            begin_date = time.mktime(datetime.datetime.strptime(begin_date,\"%m/%d/%Y\").timetuple())\n",
    "            end_date = time.mktime((datetime.datetime.strptime(end_date,\"%m/%d/%Y\")+datetime.timedelta(days=1)).timetuple())\n",
    "\n",
    "            return [i for i in self.notebook if i['ID'] >= timestamp_range[0] and i['ID'] < timestamp_range[1]]\n",
    "\n",
    "\n",
    "    # time filter\n",
    "\n",
    "    # entry_type\n",
    "    def entry_type_filter(self,entry_type = list(load_keys().keys())):\n",
    "        return [i for i in self.notebook if i['entry_type'] in entry_type]\n",
    "\n",
    "    # entry\n",
    "    def entry_text_filter(self,search_query = ''):\n",
    "        \"\"\"\n",
    "        Simple search feature tokenizing the search query and checking if any of the words are in any entries\n",
    "        \"\"\"\n",
    "        \n",
    "        if search_query == '':\n",
    "            return self.notebook\n",
    "        else:\n",
    "            search_terms = search_query.split()\n",
    "            notebook_results = []  \n",
    "            for term in search_terms:\n",
    "                notebook_results+=[i for i in self.notebook if term.lower() in i['entry'].lower() and i not in notebook_results]                \n",
    "            return notebook_results\n",
    "    \n",
    "    # subnote?\n",
    "\n",
    "    #tags\n",
    "    def tag_filter(self,tags = ['']):\n",
    "        if tags == ['']:\n",
    "            return self.notebook\n",
    "        else:\n",
    "            notebook_results = []\n",
    "            for tag in tags:\n",
    "                notebook_results+=[i for i in self.notebook if tag in i['tags'] and i not in notebook_results]                \n",
    "            return notebook_results\n",
    "    \n",
    "\n",
    "# if __name__ == \"__main__\":\n",
    "#     get = Get()\n",
    "#     get.notebook = get.load_notebook()\n",
    "#     get.notebook = get.tag_filter(['test','filter_testing2'])\n",
    "#     get.notebook = get.entry_text_filter('dog')\n",
    "    \n",
    "    \n",
    "    "
   ]
  },
  {
   "cell_type": "code",
   "execution_count": 59,
   "metadata": {},
   "outputs": [
    {
     "data": {
      "text/plain": [
       "[{'ID': 1585611847.93101,\n",
       "  'date': '30 March 2020',\n",
       "  'time': '19:44:07',\n",
       "  'entry_type': '.',\n",
       "  'entry': 'Another test note with specific word: Dog',\n",
       "  'subnote': [''],\n",
       "  'tags': ['filter_testing2']}]"
      ]
     },
     "execution_count": 59,
     "metadata": {},
     "output_type": "execute_result"
    }
   ],
   "source": [
    "get.notebook"
   ]
  },
  {
   "cell_type": "code",
   "execution_count": 21,
   "metadata": {},
   "outputs": [],
   "source": [
    "search_term = 'dog'\n",
    "search_terms = search_term.split()\n",
    "notebook_results = []\n",
    "for term in search_terms:\n",
    "    notebook_results+=[i for i in notebook if term in i['entry']]\n",
    "           "
   ]
  },
  {
   "cell_type": "code",
   "execution_count": 22,
   "metadata": {},
   "outputs": [
    {
     "data": {
      "text/plain": [
       "[{'ID': 1585608955.327053,\n",
       "  'date': '30 March 2020',\n",
       "  'time': '18:55:55',\n",
       "  'entry_type': '.',\n",
       "  'entry': 'Here is another note with a specific word: dog',\n",
       "  'subnote': [''],\n",
       "  'tags': ['filter_testing']}]"
      ]
     },
     "execution_count": 22,
     "metadata": {},
     "output_type": "execute_result"
    }
   ],
   "source": [
    "notebook_results"
   ]
  },
  {
   "cell_type": "code",
   "execution_count": 11,
   "metadata": {},
   "outputs": [
    {
     "name": "stdout",
     "output_type": "stream",
     "text": [
      "25 March 2020\n",
      "30 March 2020\n"
     ]
    }
   ],
   "source": [
    "for post in get.group_by('date'):\n",
    "    print(post)"
   ]
  },
  {
   "cell_type": "code",
   "execution_count": 69,
   "metadata": {},
   "outputs": [],
   "source": [
    "import time \n",
    "import datetime "
   ]
  },
  {
   "cell_type": "code",
   "execution_count": 102,
   "metadata": {},
   "outputs": [
    {
     "ename": "TypeError",
     "evalue": "Tuple or struct_time argument required",
     "output_type": "error",
     "traceback": [
      "\u001b[0;31m---------------------------------------------------------------------------\u001b[0m",
      "\u001b[0;31mTypeError\u001b[0m                                 Traceback (most recent call last)",
      "\u001b[0;32m<ipython-input-102-5358203d27fb>\u001b[0m in \u001b[0;36m<module>\u001b[0;34m\u001b[0m\n\u001b[1;32m      1\u001b[0m \u001b[0mbegin_date\u001b[0m \u001b[0;34m=\u001b[0m \u001b[0;34m'03/27/2020'\u001b[0m\u001b[0;34m\u001b[0m\u001b[0m\n\u001b[0;32m----> 2\u001b[0;31m \u001b[0mtime\u001b[0m\u001b[0;34m.\u001b[0m\u001b[0mmktime\u001b[0m\u001b[0;34m(\u001b[0m\u001b[0mdatetime\u001b[0m\u001b[0;34m.\u001b[0m\u001b[0mdatetime\u001b[0m\u001b[0;34m.\u001b[0m\u001b[0mstrptime\u001b[0m\u001b[0;34m(\u001b[0m\u001b[0mbegin_date\u001b[0m\u001b[0;34m,\u001b[0m\u001b[0;34m\"%m/%d/%Y\"\u001b[0m\u001b[0;34m)\u001b[0m\u001b[0;34m+\u001b[0m\u001b[0mdatetime\u001b[0m\u001b[0;34m.\u001b[0m\u001b[0mtimedelta\u001b[0m\u001b[0;34m(\u001b[0m\u001b[0mdays\u001b[0m\u001b[0;34m=\u001b[0m\u001b[0;36m1\u001b[0m\u001b[0;34m)\u001b[0m\u001b[0;34m)\u001b[0m\u001b[0;34m.\u001b[0m\u001b[0mtimetuple\u001b[0m\u001b[0;34m(\u001b[0m\u001b[0;34m)\u001b[0m\u001b[0;34m\u001b[0m\u001b[0m\n\u001b[0m",
      "\u001b[0;31mTypeError\u001b[0m: Tuple or struct_time argument required"
     ]
    }
   ],
   "source": [
    "begin_date = '03/27/2020'\n",
    "time.mktime(datetime.datetime.strptime(begin_date,\"%m/%d/%Y\")+datetime.timedelta(days=1)).timetuple()"
   ]
  },
  {
   "cell_type": "code",
   "execution_count": 112,
   "metadata": {},
   "outputs": [],
   "source": [
    "# filters\n",
    "from utils import load_keys\n",
    "import time \n",
    "import datetime \n",
    "\n",
    "# Date Filter\n",
    "def date_range_filter(begin_date='',end_date=''):\n",
    "    \"\"\"\n",
    "    Filters the notebook based on a date range\n",
    "    \"\"\"\n",
    "    if begin_date == '' and end_date == '':\n",
    "        return notebook\n",
    "    else:\n",
    "    \n",
    "        begin_date = time.mktime(datetime.datetime.strptime(begin_date,\"%m/%d/%Y\").timetuple())\n",
    "        end_date = time.mktime((datetime.datetime.strptime(end_date,\"%m/%d/%Y\")+datetime.timedelta(days=1)).timetuple())\n",
    "\n",
    "        return [i for i in notebook if i['ID'] >= timestamp_range[0] and i['ID'] < timestamp_range[1]]\n",
    "\n",
    "\n",
    "# time filter\n",
    "\n",
    "# entry_type\n",
    "def entry_type_filter(entry_type = list(load_keys().keys())):\n",
    "    return [i for i in notebook if i['entry_type'] in entry_type]\n",
    "\n",
    "# entry\n",
    "\n",
    "# subnote?\n",
    "\n",
    "#tags"
   ]
  },
  {
   "cell_type": "code",
   "execution_count": 114,
   "metadata": {},
   "outputs": [
    {
     "data": {
      "text/plain": [
       "[{'ID': 1585185286.930023,\n",
       "  'date': '25 March 2020',\n",
       "  'time': '21:14:46',\n",
       "  'entry_type': '.',\n",
       "  'entry': 'Welcome to Digital Bullet Journal!',\n",
       "  'subnote': ['Tutorial and introduction coming soon!', 'Come back soon!'],\n",
       "  'tags': ['dibujo']},\n",
       " {'ID': 1585185349.759552,\n",
       "  'date': '25 March 2020',\n",
       "  'time': '21:15:49',\n",
       "  'entry_type': '.',\n",
       "  'entry': 'Hello World!',\n",
       "  'subnote': ['first note testing out Post.py'],\n",
       "  'tags': ['test', 'dibujo']},\n",
       " {'ID': 1585608955.327053,\n",
       "  'date': '30 March 2020',\n",
       "  'time': '18:55:55',\n",
       "  'entry_type': '.',\n",
       "  'entry': 'Here is another note with a specific word: dog',\n",
       "  'subnote': [''],\n",
       "  'tags': ['filter_testing']},\n",
       " {'ID': 1585611847.93101,\n",
       "  'date': '30 March 2020',\n",
       "  'time': '19:44:07',\n",
       "  'entry_type': '.',\n",
       "  'entry': 'Another test note with specific word: Dog',\n",
       "  'subnote': [''],\n",
       "  'tags': ['filter_testing2']}]"
      ]
     },
     "execution_count": 114,
     "metadata": {},
     "output_type": "execute_result"
    }
   ],
   "source": [
    "entry_type_filter(['.'])"
   ]
  },
  {
   "cell_type": "code",
   "execution_count": 109,
   "metadata": {},
   "outputs": [
    {
     "data": {
      "text/plain": [
       "['#', '@', '&', '.', '*', '!', '?', '\"', '$', '-', '^']"
      ]
     },
     "execution_count": 109,
     "metadata": {},
     "output_type": "execute_result"
    }
   ],
   "source": [
    "from utils import load_keys\n",
    "list(load_keys().keys())"
   ]
  },
  {
   "cell_type": "code",
   "execution_count": 104,
   "metadata": {},
   "outputs": [
    {
     "data": {
      "text/plain": [
       "[{'ID': 1585608955.327053,\n",
       "  'date': '30 March 2020',\n",
       "  'time': '18:55:55',\n",
       "  'entry_type': '.',\n",
       "  'entry': 'Here is another note with a specific word: dog',\n",
       "  'subnote': [''],\n",
       "  'tags': ['filter_testing']},\n",
       " {'ID': 1585608981.6953652,\n",
       "  'date': '30 March 2020',\n",
       "  'time': '18:56:21',\n",
       "  'entry_type': '#',\n",
       "  'entry': 'Take out trash tonight',\n",
       "  'subnote': [''],\n",
       "  'tags': ['filter_testing']},\n",
       " {'ID': 1585609036.157962,\n",
       "  'date': '30 March 2020',\n",
       "  'time': '18:57:16',\n",
       "  'entry_type': '&',\n",
       "  'entry': \"Doctor's appointment at 8am\",\n",
       "  'subnote': [''],\n",
       "  'tags': ['filter_testing']},\n",
       " {'ID': 1585609077.552882,\n",
       "  'date': '30 March 2020',\n",
       "  'time': '18:57:57',\n",
       "  'entry_type': '&',\n",
       "  'entry': \"Eye doctor's appointment at 9am\",\n",
       "  'subnote': [''],\n",
       "  'tags': ['filter_testing']},\n",
       " {'ID': 1585609182.043228,\n",
       "  'date': '30 March 2020',\n",
       "  'time': '18:59:42',\n",
       "  'entry_type': '@',\n",
       "  'entry': 'Third Eye Blind concert!',\n",
       "  'subnote': [''],\n",
       "  'tags': ['filter_testing']},\n",
       " {'ID': 1585611796.89809,\n",
       "  'date': '30 March 2020',\n",
       "  'time': '19:43:16',\n",
       "  'entry_type': '^',\n",
       "  'entry': 'Develop note taking habit',\n",
       "  'subnote': [''],\n",
       "  'tags': ['filter_testing']},\n",
       " {'ID': 1585611847.93101,\n",
       "  'date': '30 March 2020',\n",
       "  'time': '19:44:07',\n",
       "  'entry_type': '.',\n",
       "  'entry': 'Another test note with specific word: Dog',\n",
       "  'subnote': [''],\n",
       "  'tags': ['filter_testing2']}]"
      ]
     },
     "execution_count": 104,
     "metadata": {},
     "output_type": "execute_result"
    }
   ],
   "source": [
    "date_range_filter()"
   ]
  },
  {
   "cell_type": "code",
   "execution_count": 87,
   "metadata": {},
   "outputs": [
    {
     "data": {
      "text/plain": [
       "False"
      ]
     },
     "execution_count": 87,
     "metadata": {},
     "output_type": "execute_result"
    }
   ],
   "source": [
    "123 < "
   ]
  }
 ],
 "metadata": {
  "kernelspec": {
   "display_name": "Python 3",
   "language": "python",
   "name": "python3"
  },
  "language_info": {
   "codemirror_mode": {
    "name": "ipython",
    "version": 3
   },
   "file_extension": ".py",
   "mimetype": "text/x-python",
   "name": "python",
   "nbconvert_exporter": "python",
   "pygments_lexer": "ipython3",
   "version": "3.7.7"
  }
 },
 "nbformat": 4,
 "nbformat_minor": 2
}
